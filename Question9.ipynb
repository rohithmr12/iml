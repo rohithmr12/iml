{
 "cells": [
  {
   "cell_type": "code",
   "execution_count": 1,
   "metadata": {},
   "outputs": [
    {
     "name": "stdout",
     "output_type": "stream",
     "text": [
      "Frequent Itemsets:\n",
      "    support               itemsets\n",
      "0       0.8                (Bread)\n",
      "1       0.6               (Butter)\n",
      "2       0.6                 (Eggs)\n",
      "3       0.6                 (Milk)\n",
      "4       0.4        (Bread, Butter)\n",
      "5       0.4          (Bread, Eggs)\n",
      "6       0.4          (Bread, Milk)\n",
      "7       0.2         (Butter, Eggs)\n",
      "8       0.4         (Butter, Milk)\n",
      "9       0.4           (Eggs, Milk)\n",
      "10      0.2  (Bread, Butter, Milk)\n",
      "11      0.2    (Bread, Eggs, Milk)\n",
      "12      0.2   (Butter, Eggs, Milk)\n",
      "\n",
      "Association Rules:\n",
      "      antecedents consequents  antecedent support  consequent support  \\\n",
      "0  (Butter, Eggs)      (Milk)                 0.2                 0.6   \n",
      "\n",
      "   support  confidence      lift  leverage  conviction  zhangs_metric  \n",
      "0      0.2         1.0  1.666667      0.08         inf            0.5  \n"
     ]
    }
   ],
   "source": [
    "from mlxtend.frequent_patterns import apriori\n",
    "from mlxtend.preprocessing import TransactionEncoder\n",
    "import pandas as pd\n",
    "\n",
    "dataset = [['Milk', 'Bread', 'Butter'],\n",
    "           ['Bread', 'Eggs'],\n",
    "           ['Milk', 'Eggs', 'Butter'],\n",
    "           ['Bread', 'Butter'],\n",
    "           ['Milk', 'Bread', 'Eggs']]\n",
    "\n",
    "te = TransactionEncoder()\n",
    "te_ary = te.fit(dataset).transform(dataset)\n",
    "df = pd.DataFrame(te_ary, columns=te.columns_)\n",
    "\n",
    "frequent_itemsets = apriori(df, min_support=0.2, use_colnames=True)\n",
    "\n",
    "print(\"Frequent Itemsets:\")\n",
    "print(frequent_itemsets)\n",
    "\n",
    "from mlxtend.frequent_patterns import association_rules\n",
    "rules = association_rules(frequent_itemsets, metric=\"confidence\", min_threshold=0.7)\n",
    "\n",
    "print(\"\\nAssociation Rules:\")\n",
    "print(rules)\n"
   ]
  },
  {
   "cell_type": "code",
   "execution_count": null,
   "metadata": {},
   "outputs": [],
   "source": []
  }
 ],
 "metadata": {
  "kernelspec": {
   "display_name": "Python 3",
   "language": "python",
   "name": "python3"
  },
  "language_info": {
   "codemirror_mode": {
    "name": "ipython",
    "version": 3
   },
   "file_extension": ".py",
   "mimetype": "text/x-python",
   "name": "python",
   "nbconvert_exporter": "python",
   "pygments_lexer": "ipython3",
   "version": "3.12.0"
  }
 },
 "nbformat": 4,
 "nbformat_minor": 2
}
