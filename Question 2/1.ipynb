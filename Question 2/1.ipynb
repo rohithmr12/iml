{
 "cells": [
  {
   "cell_type": "code",
   "execution_count": 2,
   "metadata": {},
   "outputs": [],
   "source": [
    "import pandas as pd\n",
    "data = pd.read_csv(\"1.csv\")"
   ]
  },
  {
   "cell_type": "code",
   "execution_count": 3,
   "metadata": {},
   "outputs": [
    {
     "name": "stdout",
     "output_type": "stream",
     "text": [
      "Specific Hypothesis:\n",
      "{'citations': '?', 'size': '?', 'inlibrary': 'no', 'price': '?', 'editions': '?'}\n",
      "\n",
      "General Hypothesis:\n",
      "{'citations': '?', 'size': '?', 'inlibrary': 'no', 'price': '?', 'editions': '?'}\n"
     ]
    }
   ],
   "source": [
    "specific_hypothesis = data.iloc[0, :-1].to_dict()\n",
    "general_hypothesis = {key: \"?\" for key in specific_hypothesis}\n",
    "\n",
    "for i in range(1, len(data)):\n",
    "    if data.iloc[i, -1] == \"yes\":\n",
    "        for attr in specific_hypothesis.keys():\n",
    "            if data.iloc[i][attr] != specific_hypothesis[attr]:\n",
    "                specific_hypothesis[attr] = \"?\"\n",
    "                general_hypothesis[attr] = \"?\"\n",
    "    else:\n",
    "        for attr in specific_hypothesis.keys():\n",
    "            if data.iloc[i][attr] != specific_hypothesis[attr]:\n",
    "                general_hypothesis[attr] = specific_hypothesis[attr]\n",
    "\n",
    "print(\"Specific Hypothesis:\")\n",
    "print(specific_hypothesis)\n",
    "print(\"\\nGeneral Hypothesis:\")\n",
    "print(general_hypothesis)"
   ]
  }
 ],
 "metadata": {
  "kernelspec": {
   "display_name": "Python 3",
   "language": "python",
   "name": "python3"
  },
  "language_info": {
   "codemirror_mode": {
    "name": "ipython",
    "version": 3
   },
   "file_extension": ".py",
   "mimetype": "text/x-python",
   "name": "python",
   "nbconvert_exporter": "python",
   "pygments_lexer": "ipython3",
   "version": "3.12.0"
  }
 },
 "nbformat": 4,
 "nbformat_minor": 2
}
