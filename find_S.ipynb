{
  "cells": [
    {
      "cell_type": "code",
      "execution_count": 3,
      "metadata": {
        "id": "qwBHT4OB41RE"
      },
      "outputs": [],
      "source": [
        "import pandas as pd\n",
        "import numpy as np"
      ]
    },
    {
      "cell_type": "code",
      "execution_count": 4,
      "metadata": {
        "colab": {
          "base_uri": "https://localhost:8080/",
          "height": 206
        },
        "id": "b79Si55A569Z",
        "outputId": "0943f0b1-4ee9-48fa-c65d-f1547ec8349c"
      },
      "outputs": [
        {
          "data": {
            "text/html": [
              "<div>\n",
              "<style scoped>\n",
              "    .dataframe tbody tr th:only-of-type {\n",
              "        vertical-align: middle;\n",
              "    }\n",
              "\n",
              "    .dataframe tbody tr th {\n",
              "        vertical-align: top;\n",
              "    }\n",
              "\n",
              "    .dataframe thead th {\n",
              "        text-align: right;\n",
              "    }\n",
              "</style>\n",
              "<table border=\"1\" class=\"dataframe\">\n",
              "  <thead>\n",
              "    <tr style=\"text-align: right;\">\n",
              "      <th></th>\n",
              "      <th>citations</th>\n",
              "      <th>size</th>\n",
              "      <th>inlibrary</th>\n",
              "      <th>price</th>\n",
              "      <th>editions</th>\n",
              "      <th>buy</th>\n",
              "    </tr>\n",
              "  </thead>\n",
              "  <tbody>\n",
              "    <tr>\n",
              "      <th>0</th>\n",
              "      <td>some</td>\n",
              "      <td>small</td>\n",
              "      <td>no</td>\n",
              "      <td>affordable</td>\n",
              "      <td>many</td>\n",
              "      <td>no</td>\n",
              "    </tr>\n",
              "    <tr>\n",
              "      <th>1</th>\n",
              "      <td>many</td>\n",
              "      <td>big</td>\n",
              "      <td>no</td>\n",
              "      <td>expensive</td>\n",
              "      <td>one</td>\n",
              "      <td>yes</td>\n",
              "    </tr>\n",
              "    <tr>\n",
              "      <th>2</th>\n",
              "      <td>some</td>\n",
              "      <td>big</td>\n",
              "      <td>always</td>\n",
              "      <td>expensive</td>\n",
              "      <td>few</td>\n",
              "      <td>no</td>\n",
              "    </tr>\n",
              "    <tr>\n",
              "      <th>3</th>\n",
              "      <td>many</td>\n",
              "      <td>medium</td>\n",
              "      <td>no</td>\n",
              "      <td>expensive</td>\n",
              "      <td>many</td>\n",
              "      <td>yes</td>\n",
              "    </tr>\n",
              "    <tr>\n",
              "      <th>4</th>\n",
              "      <td>many</td>\n",
              "      <td>small</td>\n",
              "      <td>no</td>\n",
              "      <td>affordable</td>\n",
              "      <td>many</td>\n",
              "      <td>yes</td>\n",
              "    </tr>\n",
              "  </tbody>\n",
              "</table>\n",
              "</div>"
            ],
            "text/plain": [
              "  citations    size inlibrary       price editions  buy\n",
              "0      some   small        no  affordable     many   no\n",
              "1      many     big        no   expensive      one  yes\n",
              "2      some     big    always   expensive      few   no\n",
              "3      many  medium        no   expensive     many  yes\n",
              "4      many   small        no  affordable     many  yes"
            ]
          },
          "execution_count": 4,
          "metadata": {},
          "output_type": "execute_result"
        }
      ],
      "source": [
        "data=pd.read_csv(\"data.csv\")\n",
        "# data=pd.read_csv(\"iml 20 nov.csv\")\n",
        "data"
      ]
    },
    {
      "cell_type": "code",
      "execution_count": 5,
      "metadata": {
        "colab": {
          "base_uri": "https://localhost:8080/"
        },
        "id": "4roARB7vBozq",
        "outputId": "f7ac4151-39c1-4444-8d44-b57a045b3adf"
      },
      "outputs": [
        {
          "data": {
            "text/plain": [
              "72"
            ]
          },
          "execution_count": 5,
          "metadata": {},
          "output_type": "execute_result"
        }
      ],
      "source": [
        "instance=2*3*2*2*3\n",
        "instance"
      ]
    },
    {
      "cell_type": "code",
      "execution_count": 6,
      "metadata": {
        "colab": {
          "base_uri": "https://localhost:8080/"
        },
        "id": "tkapN280Bw2S",
        "outputId": "a4cd66db-5be2-44a0-8221-a95b5d3a66e4"
      },
      "outputs": [
        {
          "data": {
            "text/plain": [
              "1600"
            ]
          },
          "execution_count": 6,
          "metadata": {},
          "output_type": "execute_result"
        }
      ],
      "source": [
        "hypothesis_space=4*5*4*4*5\n",
        "hypothesis_space"
      ]
    },
    {
      "cell_type": "code",
      "execution_count": 7,
      "metadata": {
        "colab": {
          "base_uri": "https://localhost:8080/"
        },
        "id": "kf5SP4l6CGPa",
        "outputId": "ed9fd6a4-ac77-4df6-d9a9-9bd723e26a84"
      },
      "outputs": [
        {
          "data": {
            "text/plain": [
              "433"
            ]
          },
          "execution_count": 7,
          "metadata": {},
          "output_type": "execute_result"
        }
      ],
      "source": [
        "semantically_distinct_hypothesis=(3*4*3*3*4)+1\n",
        "semantically_distinct_hypothesis"
      ]
    },
    {
      "cell_type": "code",
      "execution_count": 8,
      "metadata": {
        "colab": {
          "base_uri": "https://localhost:8080/"
        },
        "id": "axSU_EBr6Mdo",
        "outputId": "c1d185cb-09e3-426c-d967-a91df15900ed"
      },
      "outputs": [
        {
          "data": {
            "text/plain": [
              "array([['some', 'small', 'no', 'affordable', 'many'],\n",
              "       ['many', 'big', 'no', 'expensive', 'one'],\n",
              "       ['some', 'big', 'always', 'expensive', 'few'],\n",
              "       ['many', 'medium', 'no', 'expensive', 'many'],\n",
              "       ['many', 'small', 'no', 'affordable', 'many']], dtype=object)"
            ]
          },
          "execution_count": 8,
          "metadata": {},
          "output_type": "execute_result"
        }
      ],
      "source": [
        "concepts=np.array(data)[:,:-1]\n",
        "# : before the comma (:) represents all rows of the array, and :-1\n",
        "# after the comma represents all columns except the last one.\n",
        "concepts"
      ]
    },
    {
      "cell_type": "code",
      "execution_count": 9,
      "metadata": {
        "colab": {
          "base_uri": "https://localhost:8080/"
        },
        "id": "DJm6xjLI6ui4",
        "outputId": "9a2be97b-d332-4d23-fb16-8d673732ff3f"
      },
      "outputs": [
        {
          "data": {
            "text/plain": [
              "array(['no', 'yes', 'no', 'yes', 'yes'], dtype=object)"
            ]
          },
          "execution_count": 9,
          "metadata": {},
          "output_type": "execute_result"
        }
      ],
      "source": [
        "target=np.array(data)[:,-1]\n",
        "# slices the last column for all rows\n",
        "target"
      ]
    },
    {
      "cell_type": "code",
      "execution_count": 10,
      "metadata": {
        "id": "Ol4zhOAX6_bx"
      },
      "outputs": [],
      "source": [
        "def train(con,tar):\n",
        "  for i,val in enumerate(tar):\n",
        "    # enumerate() returns the index value and element in each iteration\n",
        "    if val=='yes':\n",
        "      specific_h=con[i].copy()\n",
        "      break\n",
        "  for i,val in enumerate(con):\n",
        "    if tar[i]=='yes':\n",
        "      for x in range(len(specific_h)):\n",
        "        if val[x]!=specific_h[x]:\n",
        "          specific_h[x]='?'\n",
        "        else:\n",
        "          pass\n",
        "  return specific_h"
      ]
    },
    {
      "cell_type": "code",
      "execution_count": 11,
      "metadata": {
        "colab": {
          "base_uri": "https://localhost:8080/"
        },
        "id": "Z71FmTqT72Tx",
        "outputId": "0dfd9db1-467a-44f4-ba01-75a92e396686"
      },
      "outputs": [
        {
          "name": "stdout",
          "output_type": "stream",
          "text": [
            "['many' '?' 'no' '?' '?']\n"
          ]
        }
      ],
      "source": [
        "print(train(concepts,target))"
      ]
    }
  ],
  "metadata": {
    "colab": {
      "provenance": []
    },
    "kernelspec": {
      "display_name": "Python 3",
      "name": "python3"
    },
    "language_info": {
      "codemirror_mode": {
        "name": "ipython",
        "version": 3
      },
      "file_extension": ".py",
      "mimetype": "text/x-python",
      "name": "python",
      "nbconvert_exporter": "python",
      "pygments_lexer": "ipython3",
      "version": "3.11.3"
    }
  },
  "nbformat": 4,
  "nbformat_minor": 0
}
