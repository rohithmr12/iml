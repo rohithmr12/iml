{
 "cells": [
  {
   "cell_type": "code",
   "execution_count": 3,
   "metadata": {},
   "outputs": [],
   "source": [
    "import pandas as pd\n",
    "data = pd.read_csv('data2.csv')"
   ]
  },
  {
   "cell_type": "code",
   "execution_count": 4,
   "metadata": {},
   "outputs": [
    {
     "name": "stdout",
     "output_type": "stream",
     "text": [
      "Final Hypothesis:\n",
      "{'citations': 'many', 'size': '?', 'inlibrary': 'no', 'price': '?', 'editions': '?'}\n"
     ]
    }
   ],
   "source": [
    "hypothesis = data[data[\"buy\"] == \"yes\"].iloc[0, :-1].to_dict()\n",
    "\n",
    "for i in range(1, len(data)):\n",
    "    if data.iloc[i, -1] == \"yes\":\n",
    "        for attr in hypothesis.keys():\n",
    "            if data.iloc[i][attr] != hypothesis[attr]:\n",
    "                hypothesis[attr] = \"?\"\n",
    "\n",
    "print(\"Final Hypothesis:\")\n",
    "print(hypothesis)"
   ]
  }
 ],
 "metadata": {
  "kernelspec": {
   "display_name": "Python 3",
   "language": "python",
   "name": "python3"
  },
  "language_info": {
   "codemirror_mode": {
    "name": "ipython",
    "version": 3
   },
   "file_extension": ".py",
   "mimetype": "text/x-python",
   "name": "python",
   "nbconvert_exporter": "python",
   "pygments_lexer": "ipython3",
   "version": "3.12.0"
  }
 },
 "nbformat": 4,
 "nbformat_minor": 2
}
